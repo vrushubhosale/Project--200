{
 "cells": [
  {
   "cell_type": "code",
   "execution_count": null,
   "metadata": {},
   "outputs": [],
   "source": [
    "print('Name')\n",
    "print('Create a GUI to read any CSV, clean the data, and create widgets to select the column names, and graph type')"
   ]
  },
  {
   "cell_type": "code",
   "execution_count": null,
   "metadata": {},
   "outputs": [],
   "source": [
    "#pre defined code\n",
    "from ipywidgets import widgets\n",
    "from IPython.display import display, clear_output\n",
    "import pandas as pd\n",
    "from tkinter import Tk, filedialog\n",
    "import matplotlib.pyplot as plt \n",
    "\n",
    "graph_type = ['Choose one.. ','line','bar']\n",
    "operation =['choose','mean','max','min','sum','count']\n",
    "df = ''\n",
    "new_df = ''\n",
    "\n",
    "\n",
    "def select_files(b):\n",
    "    clear_output()\n",
    "    global df\n",
    "    root = Tk()\n",
    "    root.withdraw() \n",
    "    file_name = filedialog.askopenfilename()\n",
    "    df = pd.read_csv(file_name)\n",
    "    print(file_name)\n",
    "#pre defined code end\n",
    "    #complete select_files function\n",
    "\n",
    "    #End of select_files function\n",
    "\n",
    "    \n",
    "#Code for get_widget function\n",
    "\n",
    "\n",
    "\n",
    "#Code for groupby_dataframe function\n",
    "\n",
    "\n",
    "    \n",
    "#pre defined code\n",
    "fileselect = widgets.Button(description=\"File select\")\n",
    "fileselect.on_click(select_files)\n",
    "\n",
    "display(fileselect)\n",
    "#pre defined code end"
   ]
  },
  {
   "cell_type": "code",
   "execution_count": null,
   "metadata": {},
   "outputs": [],
   "source": []
  },
  {
   "cell_type": "code",
   "execution_count": null,
   "metadata": {},
   "outputs": [],
   "source": []
  },
  {
   "cell_type": "code",
   "execution_count": null,
   "metadata": {},
   "outputs": [],
   "source": []
  }
 ],
 "metadata": {
  "kernelspec": {
   "display_name": "Python 3",
   "language": "python",
   "name": "python3"
  },
  "language_info": {
   "codemirror_mode": {
    "name": "ipython",
    "version": 3
   },
   "file_extension": ".py",
   "mimetype": "text/x-python",
   "name": "python",
   "nbconvert_exporter": "python",
   "pygments_lexer": "ipython3",
   "version": "3.8.3"
  }
 },
 "nbformat": 4,
 "nbformat_minor": 4
}
